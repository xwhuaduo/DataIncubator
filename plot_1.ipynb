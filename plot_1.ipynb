{
 "cells": [
  {
   "cell_type": "markdown",
   "metadata": {},
   "source": [
    "# Plot 1\n",
    "In this boxplots, I use `logCount` variable, which is the `log10` version of variable `usefulCount`, versus `rating`. The lower boxplots show a counterpart based from a subset of the data that only contain **Depression drugs**. \n",
    "\n",
    "It seems the higher the rating, the more people would find the review useful, which indicates that people seem to have unbiased opinions on thing that they prefer. This relationship is more obvious in the lower boxplots. "
   ]
  },
  {
   "cell_type": "markdown",
   "metadata": {},
   "source": [
    "![](1.png)"
   ]
  }
 ],
 "metadata": {
  "kernelspec": {
   "display_name": "Python 3",
   "language": "python",
   "name": "python3"
  },
  "language_info": {
   "codemirror_mode": {
    "name": "ipython",
    "version": 3
   },
   "file_extension": ".py",
   "mimetype": "text/x-python",
   "name": "python",
   "nbconvert_exporter": "python",
   "pygments_lexer": "ipython3",
   "version": "3.7.1"
  }
 },
 "nbformat": 4,
 "nbformat_minor": 2
}
