{
 "cells": [
  {
   "cell_type": "markdown",
   "metadata": {},
   "source": [
    "# Plot 2\n",
    "I tried the following methods to predict the rating. \n",
    "1. Random Guesses: the probability of rating from one review is the same, which is 10%.\n",
    "2. Logistic Regression with numeric variables: the numeric variables are:\n",
    "    - `year`: The year when the review was created\n",
    "    - `month`: The month when the review was created\n",
    "    - `length`: Length of the review, i.e., words counts of the review.\n",
    "3. Logistic Regression with text: I use the bag-of-words model to transform reviews to words and counts and then implement logistic Regression.\n",
    "4. Logistic Regression with text (ngram=(1,2): I use n-gram method to transform reviews to words and counts and then implement logistic Regression. N-gram method takes word order into consideration. For example, in bag-of-words, \"not good\" would be interpreted as \"not\" and \"good,\" each with count 1. In n-gram, \"not good\" will be interpreted as \"not\", \"good\", and \"not good\", each with count 1.\n",
    "\n",
    "The corresponding log loss value of each method is shown in the following plot."
   ]
  },
  {
   "cell_type": "markdown",
   "metadata": {},
   "source": [
    "![](2.png)"
   ]
  }
 ],
 "metadata": {
  "kernelspec": {
   "display_name": "Python 3",
   "language": "python",
   "name": "python3"
  },
  "language_info": {
   "codemirror_mode": {
    "name": "ipython",
    "version": 3
   },
   "file_extension": ".py",
   "mimetype": "text/x-python",
   "name": "python",
   "nbconvert_exporter": "python",
   "pygments_lexer": "ipython3",
   "version": "3.7.1"
  }
 },
 "nbformat": 4,
 "nbformat_minor": 2
}
